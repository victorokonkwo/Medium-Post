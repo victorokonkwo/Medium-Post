{
 "cells": [
  {
   "cell_type": "markdown",
   "metadata": {},
   "source": [
    "Imagine you were assigned a new job role and you were asked by your `CTO` to build a predictive model for credit scoring. To this end you have been tasked to find clues in the data to ascertain the following:\n",
    "<li> What risk factors can be addressed\n",
    "<li> If future cases can be predicted, interpret predictions on a case-by-case basis.\n",
    "    \n",
    "## Details about Loan Prediction\n",
    "Before we dive into the data,we must gather some important details about Credit Scoring in order to do the following:\n",
    "<li> Understand the problem's context and relevance.\n",
    "<li> Extract domain knowledge information that can inform our data analysis and model interpretation.\n",
    "<li> Relate an expert-informed background to a dataset's features.\n",
    "    \n",
    "## Approach\n",
    "Logistic regression is one common way to rank risk factors in financial use cases. Unlike linear regression, It doesn't try to predict a continuous value for each of your observations, but it predicts a probability score that an observation belongs to a particular class. In this case, what we are trying to predict is, given x data for each loan applicant, what is the probability, from 0 to 1, that they will defaul on loan repayment.\n",
    "\n",
    "\n",
    "## Loading the libraries\n",
    "You will need to install the following libraries:\n",
    "pandas and numpy to manipulate the dataset\n",
    "statsmodels to fit the logistic regression model\n",
    "sklearn to split the data\n",
    "matplotlib to visualize the interpretations\n",
    "\n"
   ]
  },
  {
   "cell_type": "code",
   "execution_count": 3,
   "metadata": {},
   "outputs": [],
   "source": [
    "import math\n",
    "import pandas as pd\n",
    "import numpy as np\n",
    "import seaborn as sns\n",
    "import statsmodels.api as sm\n",
    "from scipy import stats\n",
    "from sklearn.model_selection import train_test_split\n",
    "import matplotlib.pyplot as plt\n",
    "from matplotlib.colors import ListedColormap"
   ]
  },
  {
   "cell_type": "markdown",
   "metadata": {},
   "source": [
    "## Understanding and preparing the data\n",
    "The data used in the tutorial will be loaded into a dataframe, I call `credit_df`"
   ]
  },
  {
   "cell_type": "code",
   "execution_count": 4,
   "metadata": {},
   "outputs": [
    {
     "data": {
      "text/plain": [
       "(4455, 14)"
      ]
     },
     "execution_count": 4,
     "metadata": {},
     "output_type": "execute_result"
    }
   ],
   "source": [
    "credit_df = pd.read_csv('CreditScoring.csv')\n",
    "credit_df.shape"
   ]
  },
  {
   "cell_type": "markdown",
   "metadata": {},
   "source": [
    "From this, I was getting 4455 records and 14 columns. We can take a peek at what was loaded with `info()`. The command will output the names of each column with its typw and how many non-null records it contains:"
   ]
  },
  {
   "cell_type": "code",
   "execution_count": 5,
   "metadata": {},
   "outputs": [
    {
     "name": "stdout",
     "output_type": "stream",
     "text": [
      "<class 'pandas.core.frame.DataFrame'>\n",
      "RangeIndex: 4455 entries, 0 to 4454\n",
      "Data columns (total 14 columns):\n",
      "Status       4455 non-null int64\n",
      "Seniority    4455 non-null int64\n",
      "Home         4455 non-null int64\n",
      "Time         4455 non-null int64\n",
      "Age          4455 non-null int64\n",
      "Marital      4455 non-null int64\n",
      "Records      4455 non-null int64\n",
      "Job          4455 non-null int64\n",
      "Expenses     4455 non-null int64\n",
      "Income       4455 non-null int64\n",
      "Assets       4455 non-null int64\n",
      "Debt         4455 non-null int64\n",
      "Amount       4455 non-null int64\n",
      "Price        4455 non-null int64\n",
      "dtypes: int64(14)\n",
      "memory usage: 487.4 KB\n"
     ]
    }
   ],
   "source": [
    "credit_df.info()"
   ]
  },
  {
   "cell_type": "code",
   "execution_count": 6,
   "metadata": {},
   "outputs": [
    {
     "data": {
      "text/html": [
       "<div>\n",
       "<style scoped>\n",
       "    .dataframe tbody tr th:only-of-type {\n",
       "        vertical-align: middle;\n",
       "    }\n",
       "\n",
       "    .dataframe tbody tr th {\n",
       "        vertical-align: top;\n",
       "    }\n",
       "\n",
       "    .dataframe thead th {\n",
       "        text-align: right;\n",
       "    }\n",
       "</style>\n",
       "<table border=\"1\" class=\"dataframe\">\n",
       "  <thead>\n",
       "    <tr style=\"text-align: right;\">\n",
       "      <th></th>\n",
       "      <th>Status</th>\n",
       "      <th>Seniority</th>\n",
       "      <th>Home</th>\n",
       "      <th>Time</th>\n",
       "      <th>Age</th>\n",
       "      <th>Marital</th>\n",
       "      <th>Records</th>\n",
       "      <th>Job</th>\n",
       "      <th>Expenses</th>\n",
       "      <th>Income</th>\n",
       "      <th>Assets</th>\n",
       "      <th>Debt</th>\n",
       "      <th>Amount</th>\n",
       "      <th>Price</th>\n",
       "    </tr>\n",
       "  </thead>\n",
       "  <tbody>\n",
       "    <tr>\n",
       "      <td>0</td>\n",
       "      <td>1</td>\n",
       "      <td>9</td>\n",
       "      <td>1</td>\n",
       "      <td>60</td>\n",
       "      <td>30</td>\n",
       "      <td>2</td>\n",
       "      <td>1</td>\n",
       "      <td>3</td>\n",
       "      <td>73</td>\n",
       "      <td>129</td>\n",
       "      <td>0</td>\n",
       "      <td>0</td>\n",
       "      <td>800</td>\n",
       "      <td>846</td>\n",
       "    </tr>\n",
       "    <tr>\n",
       "      <td>1</td>\n",
       "      <td>1</td>\n",
       "      <td>17</td>\n",
       "      <td>1</td>\n",
       "      <td>60</td>\n",
       "      <td>58</td>\n",
       "      <td>3</td>\n",
       "      <td>1</td>\n",
       "      <td>1</td>\n",
       "      <td>48</td>\n",
       "      <td>131</td>\n",
       "      <td>0</td>\n",
       "      <td>0</td>\n",
       "      <td>1000</td>\n",
       "      <td>1658</td>\n",
       "    </tr>\n",
       "    <tr>\n",
       "      <td>2</td>\n",
       "      <td>2</td>\n",
       "      <td>10</td>\n",
       "      <td>2</td>\n",
       "      <td>36</td>\n",
       "      <td>46</td>\n",
       "      <td>2</td>\n",
       "      <td>2</td>\n",
       "      <td>3</td>\n",
       "      <td>90</td>\n",
       "      <td>200</td>\n",
       "      <td>3000</td>\n",
       "      <td>0</td>\n",
       "      <td>2000</td>\n",
       "      <td>2985</td>\n",
       "    </tr>\n",
       "    <tr>\n",
       "      <td>3</td>\n",
       "      <td>1</td>\n",
       "      <td>0</td>\n",
       "      <td>1</td>\n",
       "      <td>60</td>\n",
       "      <td>24</td>\n",
       "      <td>1</td>\n",
       "      <td>1</td>\n",
       "      <td>1</td>\n",
       "      <td>63</td>\n",
       "      <td>182</td>\n",
       "      <td>2500</td>\n",
       "      <td>0</td>\n",
       "      <td>900</td>\n",
       "      <td>1325</td>\n",
       "    </tr>\n",
       "    <tr>\n",
       "      <td>4</td>\n",
       "      <td>1</td>\n",
       "      <td>0</td>\n",
       "      <td>1</td>\n",
       "      <td>36</td>\n",
       "      <td>26</td>\n",
       "      <td>1</td>\n",
       "      <td>1</td>\n",
       "      <td>1</td>\n",
       "      <td>46</td>\n",
       "      <td>107</td>\n",
       "      <td>0</td>\n",
       "      <td>0</td>\n",
       "      <td>310</td>\n",
       "      <td>910</td>\n",
       "    </tr>\n",
       "  </tbody>\n",
       "</table>\n",
       "</div>"
      ],
      "text/plain": [
       "   Status  Seniority  Home  Time  Age  Marital  Records  Job  Expenses  \\\n",
       "0       1          9     1    60   30        2        1    3        73   \n",
       "1       1         17     1    60   58        3        1    1        48   \n",
       "2       2         10     2    36   46        2        2    3        90   \n",
       "3       1          0     1    60   24        1        1    1        63   \n",
       "4       1          0     1    36   26        1        1    1        46   \n",
       "\n",
       "   Income  Assets  Debt  Amount  Price  \n",
       "0     129       0     0     800    846  \n",
       "1     131       0     0    1000   1658  \n",
       "2     200    3000     0    2000   2985  \n",
       "3     182    2500     0     900   1325  \n",
       "4     107       0     0     310    910  "
      ]
     },
     "execution_count": 6,
     "metadata": {},
     "output_type": "execute_result"
    }
   ],
   "source": [
    "credit_df.head()"
   ]
  },
  {
   "cell_type": "markdown",
   "metadata": {},
   "source": [
    "## Data Preparation\n",
    "For the sake of interpretability and model performance, there are several data preparation tasks that we can take care of, but the one that stands out right now is `age`. In fact, for credit scoring and loan predictions like this one, we might even want to bucket them into age groups since people tend to age differently.\n",
    "\n",
    "## Quantile binning\n",
    "Quantiles are values that divide the data into equal portions. For example, the median divides the data in halves; half the data points are smaller and half larger than the median. The quantiles divide the data into quarters, the deciles into tenths, etc.\n"
   ]
  },
  {
   "cell_type": "code",
   "execution_count": 7,
   "metadata": {},
   "outputs": [
    {
     "data": {
      "text/plain": [
       "0.1    24.0\n",
       "0.2    27.0\n",
       "0.3    30.0\n",
       "0.4    32.0\n",
       "0.5    36.0\n",
       "0.6    39.0\n",
       "0.7    42.0\n",
       "0.8    47.0\n",
       "0.9    53.0\n",
       "Name: Age, dtype: float64"
      ]
     },
     "execution_count": 7,
     "metadata": {},
     "output_type": "execute_result"
    }
   ],
   "source": [
    "deciles = credit_df['Age'].quantile([.1, .2, .3, .4, .5, .6, .7, .8, .9])\n",
    "deciles"
   ]
  },
  {
   "cell_type": "markdown",
   "metadata": {},
   "source": [
    "Visualizing the deciles on the histogram"
   ]
  },
  {
   "cell_type": "code",
   "execution_count": 8,
   "metadata": {},
   "outputs": [
    {
     "data": {
      "text/plain": [
       "Text(0.5, 0, 'Age')"
      ]
     },
     "execution_count": 8,
     "metadata": {},
     "output_type": "execute_result"
    },
    {
     "data": {
      "image/png": "[encoded data removed]",
      "text/plain": [
       "<Figure size 432x288 with 1 Axes>"
      ]
     },
     "metadata": {},
     "output_type": "display_data"
    }
   ],
   "source": [
    "sns.set_style('whitegrid')\n",
    "fig, ax = plt.subplots()\n",
    "credit_df['Age'].hist(ax=ax, bins=100)\n",
    "\n",
    "for pos in deciles:\n",
    "    handle = plt.axvline(pos, color='r')\n",
    "ax.legend([handle], ['deciles'], fontsize=14)\n",
    "ax.set_yscale('log')\n",
    "ax.set_xscale('log')\n",
    "ax.tick_params(labelsize=14)\n",
    "ax.set_ylabel('Occurrence', fontsize=14)\n",
    "ax.set_xlabel('Age', fontsize=14)"
   ]
  },
  {
   "cell_type": "markdown",
   "metadata": {},
   "source": [
    "To compute the decile and map data into decile bins, we can use the Pandas library."
   ]
  },
  {
   "cell_type": "code",
   "execution_count": 9,
   "metadata": {},
   "outputs": [],
   "source": [
    "# Map the counts to decile\n",
    "age_bin = pd.qcut(credit_df['Age'], 10, labels=False )\n",
    "\n",
    "age_series = pd.Series(age_bin)\n",
    "age_series.quantile([0.25, 0.5, 0.75])\n",
    "credit_df['bin_age'] = age_series"
   ]
  },
  {
   "cell_type": "markdown",
   "metadata": {},
   "source": [
    "This is an example of feature engineering, which is when you use domain knowledge of your data to create features that better represent your problem, thereby improving the models. In subsequent blog post I'll write on `Feature Selection and engineering for interpretability` and also I'll look at `Monotonic Constraints and Model Tuning for interpretability`"
   ]
  },
  {
   "cell_type": "markdown",
   "metadata": {},
   "source": [
    "Now we are going to take a peak at what the summary statistics are for each one of our features using the described() method:"
   ]
  },
  {
   "cell_type": "code",
   "execution_count": 10,
   "metadata": {},
   "outputs": [
    {
     "data": {
      "text/html": [
       "<div>\n",
       "<style scoped>\n",
       "    .dataframe tbody tr th:only-of-type {\n",
       "        vertical-align: middle;\n",
       "    }\n",
       "\n",
       "    .dataframe tbody tr th {\n",
       "        vertical-align: top;\n",
       "    }\n",
       "\n",
       "    .dataframe thead th {\n",
       "        text-align: right;\n",
       "    }\n",
       "</style>\n",
       "<table border=\"1\" class=\"dataframe\">\n",
       "  <thead>\n",
       "    <tr style=\"text-align: right;\">\n",
       "      <th></th>\n",
       "      <th>count</th>\n",
       "      <th>mean</th>\n",
       "      <th>std</th>\n",
       "      <th>min</th>\n",
       "      <th>25%</th>\n",
       "      <th>50%</th>\n",
       "      <th>75%</th>\n",
       "      <th>max</th>\n",
       "    </tr>\n",
       "  </thead>\n",
       "  <tbody>\n",
       "    <tr>\n",
       "      <td>Status</td>\n",
       "      <td>4455.0</td>\n",
       "      <td>1.281257e+00</td>\n",
       "      <td>4.501621e-01</td>\n",
       "      <td>0.0</td>\n",
       "      <td>1.0</td>\n",
       "      <td>1.0</td>\n",
       "      <td>2.0</td>\n",
       "      <td>2.0</td>\n",
       "    </tr>\n",
       "    <tr>\n",
       "      <td>Seniority</td>\n",
       "      <td>4455.0</td>\n",
       "      <td>7.987205e+00</td>\n",
       "      <td>8.173444e+00</td>\n",
       "      <td>0.0</td>\n",
       "      <td>2.0</td>\n",
       "      <td>5.0</td>\n",
       "      <td>12.0</td>\n",
       "      <td>48.0</td>\n",
       "    </tr>\n",
       "    <tr>\n",
       "      <td>Home</td>\n",
       "      <td>4455.0</td>\n",
       "      <td>2.657015e+00</td>\n",
       "      <td>1.610467e+00</td>\n",
       "      <td>0.0</td>\n",
       "      <td>2.0</td>\n",
       "      <td>2.0</td>\n",
       "      <td>4.0</td>\n",
       "      <td>6.0</td>\n",
       "    </tr>\n",
       "    <tr>\n",
       "      <td>Time</td>\n",
       "      <td>4455.0</td>\n",
       "      <td>4.644175e+01</td>\n",
       "      <td>1.465523e+01</td>\n",
       "      <td>6.0</td>\n",
       "      <td>36.0</td>\n",
       "      <td>48.0</td>\n",
       "      <td>60.0</td>\n",
       "      <td>72.0</td>\n",
       "    </tr>\n",
       "    <tr>\n",
       "      <td>Age</td>\n",
       "      <td>4455.0</td>\n",
       "      <td>3.707767e+01</td>\n",
       "      <td>1.098486e+01</td>\n",
       "      <td>18.0</td>\n",
       "      <td>28.0</td>\n",
       "      <td>36.0</td>\n",
       "      <td>45.0</td>\n",
       "      <td>68.0</td>\n",
       "    </tr>\n",
       "    <tr>\n",
       "      <td>Marital</td>\n",
       "      <td>4455.0</td>\n",
       "      <td>1.879012e+00</td>\n",
       "      <td>6.437478e-01</td>\n",
       "      <td>0.0</td>\n",
       "      <td>2.0</td>\n",
       "      <td>2.0</td>\n",
       "      <td>2.0</td>\n",
       "      <td>5.0</td>\n",
       "    </tr>\n",
       "    <tr>\n",
       "      <td>Records</td>\n",
       "      <td>4455.0</td>\n",
       "      <td>1.173513e+00</td>\n",
       "      <td>3.787326e-01</td>\n",
       "      <td>1.0</td>\n",
       "      <td>1.0</td>\n",
       "      <td>1.0</td>\n",
       "      <td>1.0</td>\n",
       "      <td>2.0</td>\n",
       "    </tr>\n",
       "    <tr>\n",
       "      <td>Job</td>\n",
       "      <td>4455.0</td>\n",
       "      <td>1.675870e+00</td>\n",
       "      <td>9.540352e-01</td>\n",
       "      <td>0.0</td>\n",
       "      <td>1.0</td>\n",
       "      <td>1.0</td>\n",
       "      <td>3.0</td>\n",
       "      <td>4.0</td>\n",
       "    </tr>\n",
       "    <tr>\n",
       "      <td>Expenses</td>\n",
       "      <td>4455.0</td>\n",
       "      <td>5.556880e+01</td>\n",
       "      <td>1.951588e+01</td>\n",
       "      <td>35.0</td>\n",
       "      <td>35.0</td>\n",
       "      <td>51.0</td>\n",
       "      <td>72.0</td>\n",
       "      <td>180.0</td>\n",
       "    </tr>\n",
       "    <tr>\n",
       "      <td>Income</td>\n",
       "      <td>4455.0</td>\n",
       "      <td>7.633170e+05</td>\n",
       "      <td>8.703625e+06</td>\n",
       "      <td>0.0</td>\n",
       "      <td>80.0</td>\n",
       "      <td>120.0</td>\n",
       "      <td>166.0</td>\n",
       "      <td>99999999.0</td>\n",
       "    </tr>\n",
       "    <tr>\n",
       "      <td>Assets</td>\n",
       "      <td>4455.0</td>\n",
       "      <td>1.060341e+06</td>\n",
       "      <td>1.021757e+07</td>\n",
       "      <td>0.0</td>\n",
       "      <td>0.0</td>\n",
       "      <td>3500.0</td>\n",
       "      <td>6000.0</td>\n",
       "      <td>99999999.0</td>\n",
       "    </tr>\n",
       "    <tr>\n",
       "      <td>Debt</td>\n",
       "      <td>4455.0</td>\n",
       "      <td>4.043820e+05</td>\n",
       "      <td>6.344253e+06</td>\n",
       "      <td>0.0</td>\n",
       "      <td>0.0</td>\n",
       "      <td>0.0</td>\n",
       "      <td>0.0</td>\n",
       "      <td>99999999.0</td>\n",
       "    </tr>\n",
       "    <tr>\n",
       "      <td>Amount</td>\n",
       "      <td>4455.0</td>\n",
       "      <td>1.039022e+03</td>\n",
       "      <td>4.745430e+02</td>\n",
       "      <td>100.0</td>\n",
       "      <td>700.0</td>\n",
       "      <td>1000.0</td>\n",
       "      <td>1300.0</td>\n",
       "      <td>5000.0</td>\n",
       "    </tr>\n",
       "    <tr>\n",
       "      <td>Price</td>\n",
       "      <td>4455.0</td>\n",
       "      <td>1.462876e+03</td>\n",
       "      <td>6.280899e+02</td>\n",
       "      <td>105.0</td>\n",
       "      <td>1117.5</td>\n",
       "      <td>1400.0</td>\n",
       "      <td>1692.0</td>\n",
       "      <td>11140.0</td>\n",
       "    </tr>\n",
       "    <tr>\n",
       "      <td>bin_age</td>\n",
       "      <td>4455.0</td>\n",
       "      <td>4.349495e+00</td>\n",
       "      <td>2.938099e+00</td>\n",
       "      <td>0.0</td>\n",
       "      <td>2.0</td>\n",
       "      <td>4.0</td>\n",
       "      <td>7.0</td>\n",
       "      <td>9.0</td>\n",
       "    </tr>\n",
       "  </tbody>\n",
       "</table>\n",
       "</div>"
      ],
      "text/plain": [
       "            count          mean           std    min     25%     50%     75%  \\\n",
       "Status     4455.0  1.281257e+00  4.501621e-01    0.0     1.0     1.0     2.0   \n",
       "Seniority  4455.0  7.987205e+00  8.173444e+00    0.0     2.0     5.0    12.0   \n",
       "Home       4455.0  2.657015e+00  1.610467e+00    0.0     2.0     2.0     4.0   \n",
       "Time       4455.0  4.644175e+01  1.465523e+01    6.0    36.0    48.0    60.0   \n",
       "Age        4455.0  3.707767e+01  1.098486e+01   18.0    28.0    36.0    45.0   \n",
       "Marital    4455.0  1.879012e+00  6.437478e-01    0.0     2.0     2.0     2.0   \n",
       "Records    4455.0  1.173513e+00  3.787326e-01    1.0     1.0     1.0     1.0   \n",
       "Job        4455.0  1.675870e+00  9.540352e-01    0.0     1.0     1.0     3.0   \n",
       "Expenses   4455.0  5.556880e+01  1.951588e+01   35.0    35.0    51.0    72.0   \n",
       "Income     4455.0  7.633170e+05  8.703625e+06    0.0    80.0   120.0   166.0   \n",
       "Assets     4455.0  1.060341e+06  1.021757e+07    0.0     0.0  3500.0  6000.0   \n",
       "Debt       4455.0  4.043820e+05  6.344253e+06    0.0     0.0     0.0     0.0   \n",
       "Amount     4455.0  1.039022e+03  4.745430e+02  100.0   700.0  1000.0  1300.0   \n",
       "Price      4455.0  1.462876e+03  6.280899e+02  105.0  1117.5  1400.0  1692.0   \n",
       "bin_age    4455.0  4.349495e+00  2.938099e+00    0.0     2.0     4.0     7.0   \n",
       "\n",
       "                  max  \n",
       "Status            2.0  \n",
       "Seniority        48.0  \n",
       "Home              6.0  \n",
       "Time             72.0  \n",
       "Age              68.0  \n",
       "Marital           5.0  \n",
       "Records           2.0  \n",
       "Job               4.0  \n",
       "Expenses        180.0  \n",
       "Income     99999999.0  \n",
       "Assets     99999999.0  \n",
       "Debt       99999999.0  \n",
       "Amount         5000.0  \n",
       "Price         11140.0  \n",
       "bin_age           9.0  "
      ]
     },
     "execution_count": 10,
     "metadata": {},
     "output_type": "execute_result"
    }
   ],
   "source": [
    "credit_df.describe().transpose()"
   ]
  },
  {
   "cell_type": "markdown",
   "metadata": {},
   "source": [
    "This shows the summary statistics outputted by the preceding code. `age` is looking good because it ranges between 18 and 68 years, which is not out of the ordinary, but there are some anomalous outliers for debt, assets and income. These outlier has to be removed because they could lead to poor model performance and interpretability."
   ]
  },
  {
   "cell_type": "code",
   "execution_count": null,
   "metadata": {},
   "outputs": [],
   "source": []
  },
  {
   "cell_type": "code",
   "execution_count": 11,
   "metadata": {},
   "outputs": [
    {
     "data": {
      "text/html": [
       "<div>\n",
       "<style scoped>\n",
       "    .dataframe tbody tr th:only-of-type {\n",
       "        vertical-align: middle;\n",
       "    }\n",
       "\n",
       "    .dataframe tbody tr th {\n",
       "        vertical-align: top;\n",
       "    }\n",
       "\n",
       "    .dataframe thead th {\n",
       "        text-align: right;\n",
       "    }\n",
       "</style>\n",
       "<table border=\"1\" class=\"dataframe\">\n",
       "  <thead>\n",
       "    <tr style=\"text-align: right;\">\n",
       "      <th></th>\n",
       "      <th>count</th>\n",
       "      <th>mean</th>\n",
       "      <th>std</th>\n",
       "      <th>min</th>\n",
       "      <th>25%</th>\n",
       "      <th>50%</th>\n",
       "      <th>75%</th>\n",
       "      <th>max</th>\n",
       "    </tr>\n",
       "  </thead>\n",
       "  <tbody>\n",
       "    <tr>\n",
       "      <td>Status</td>\n",
       "      <td>4066.0</td>\n",
       "      <td>1.270044</td>\n",
       "      <td>0.444591</td>\n",
       "      <td>0.0</td>\n",
       "      <td>1.00</td>\n",
       "      <td>1.0</td>\n",
       "      <td>2.00</td>\n",
       "      <td>2.0</td>\n",
       "    </tr>\n",
       "    <tr>\n",
       "      <td>Seniority</td>\n",
       "      <td>4066.0</td>\n",
       "      <td>7.604279</td>\n",
       "      <td>7.486212</td>\n",
       "      <td>0.0</td>\n",
       "      <td>2.00</td>\n",
       "      <td>5.0</td>\n",
       "      <td>12.00</td>\n",
       "      <td>32.0</td>\n",
       "    </tr>\n",
       "    <tr>\n",
       "      <td>Home</td>\n",
       "      <td>4066.0</td>\n",
       "      <td>2.679292</td>\n",
       "      <td>1.609000</td>\n",
       "      <td>1.0</td>\n",
       "      <td>2.00</td>\n",
       "      <td>2.0</td>\n",
       "      <td>5.00</td>\n",
       "      <td>6.0</td>\n",
       "    </tr>\n",
       "    <tr>\n",
       "      <td>Time</td>\n",
       "      <td>4066.0</td>\n",
       "      <td>46.565667</td>\n",
       "      <td>14.664254</td>\n",
       "      <td>6.0</td>\n",
       "      <td>36.00</td>\n",
       "      <td>48.0</td>\n",
       "      <td>60.00</td>\n",
       "      <td>72.0</td>\n",
       "    </tr>\n",
       "    <tr>\n",
       "      <td>Age</td>\n",
       "      <td>4066.0</td>\n",
       "      <td>36.568372</td>\n",
       "      <td>10.880153</td>\n",
       "      <td>18.0</td>\n",
       "      <td>28.00</td>\n",
       "      <td>35.0</td>\n",
       "      <td>44.00</td>\n",
       "      <td>68.0</td>\n",
       "    </tr>\n",
       "    <tr>\n",
       "      <td>Marital</td>\n",
       "      <td>4066.0</td>\n",
       "      <td>1.781358</td>\n",
       "      <td>0.449854</td>\n",
       "      <td>0.0</td>\n",
       "      <td>2.00</td>\n",
       "      <td>2.0</td>\n",
       "      <td>2.00</td>\n",
       "      <td>3.0</td>\n",
       "    </tr>\n",
       "    <tr>\n",
       "      <td>Records</td>\n",
       "      <td>4066.0</td>\n",
       "      <td>1.164781</td>\n",
       "      <td>0.371029</td>\n",
       "      <td>1.0</td>\n",
       "      <td>1.00</td>\n",
       "      <td>1.0</td>\n",
       "      <td>1.00</td>\n",
       "      <td>2.0</td>\n",
       "    </tr>\n",
       "    <tr>\n",
       "      <td>Job</td>\n",
       "      <td>4066.0</td>\n",
       "      <td>1.653960</td>\n",
       "      <td>0.944476</td>\n",
       "      <td>0.0</td>\n",
       "      <td>1.00</td>\n",
       "      <td>1.0</td>\n",
       "      <td>3.00</td>\n",
       "      <td>4.0</td>\n",
       "    </tr>\n",
       "    <tr>\n",
       "      <td>Expenses</td>\n",
       "      <td>4066.0</td>\n",
       "      <td>55.466306</td>\n",
       "      <td>18.561569</td>\n",
       "      <td>35.0</td>\n",
       "      <td>35.00</td>\n",
       "      <td>52.0</td>\n",
       "      <td>73.00</td>\n",
       "      <td>114.0</td>\n",
       "    </tr>\n",
       "    <tr>\n",
       "      <td>Income</td>\n",
       "      <td>4066.0</td>\n",
       "      <td>129.380964</td>\n",
       "      <td>83.130883</td>\n",
       "      <td>0.0</td>\n",
       "      <td>80.00</td>\n",
       "      <td>120.0</td>\n",
       "      <td>163.00</td>\n",
       "      <td>905.0</td>\n",
       "    </tr>\n",
       "    <tr>\n",
       "      <td>Assets</td>\n",
       "      <td>4066.0</td>\n",
       "      <td>5034.268815</td>\n",
       "      <td>9599.235962</td>\n",
       "      <td>0.0</td>\n",
       "      <td>0.00</td>\n",
       "      <td>3000.0</td>\n",
       "      <td>6000.00</td>\n",
       "      <td>250000.0</td>\n",
       "    </tr>\n",
       "    <tr>\n",
       "      <td>Debt</td>\n",
       "      <td>4066.0</td>\n",
       "      <td>346.581407</td>\n",
       "      <td>1221.159598</td>\n",
       "      <td>0.0</td>\n",
       "      <td>0.00</td>\n",
       "      <td>0.0</td>\n",
       "      <td>0.00</td>\n",
       "      <td>30000.0</td>\n",
       "    </tr>\n",
       "    <tr>\n",
       "      <td>Amount</td>\n",
       "      <td>4066.0</td>\n",
       "      <td>1012.542056</td>\n",
       "      <td>420.009728</td>\n",
       "      <td>100.0</td>\n",
       "      <td>700.00</td>\n",
       "      <td>1000.0</td>\n",
       "      <td>1300.00</td>\n",
       "      <td>2400.0</td>\n",
       "    </tr>\n",
       "    <tr>\n",
       "      <td>Price</td>\n",
       "      <td>4066.0</td>\n",
       "      <td>1414.409247</td>\n",
       "      <td>484.906211</td>\n",
       "      <td>105.0</td>\n",
       "      <td>1111.25</td>\n",
       "      <td>1398.0</td>\n",
       "      <td>1670.75</td>\n",
       "      <td>3318.0</td>\n",
       "    </tr>\n",
       "    <tr>\n",
       "      <td>bin_age</td>\n",
       "      <td>4066.0</td>\n",
       "      <td>4.214953</td>\n",
       "      <td>2.937652</td>\n",
       "      <td>0.0</td>\n",
       "      <td>2.00</td>\n",
       "      <td>4.0</td>\n",
       "      <td>7.00</td>\n",
       "      <td>9.0</td>\n",
       "    </tr>\n",
       "  </tbody>\n",
       "</table>\n",
       "</div>"
      ],
      "text/plain": [
       "            count         mean          std    min      25%     50%      75%  \\\n",
       "Status     4066.0     1.270044     0.444591    0.0     1.00     1.0     2.00   \n",
       "Seniority  4066.0     7.604279     7.486212    0.0     2.00     5.0    12.00   \n",
       "Home       4066.0     2.679292     1.609000    1.0     2.00     2.0     5.00   \n",
       "Time       4066.0    46.565667    14.664254    6.0    36.00    48.0    60.00   \n",
       "Age        4066.0    36.568372    10.880153   18.0    28.00    35.0    44.00   \n",
       "Marital    4066.0     1.781358     0.449854    0.0     2.00     2.0     2.00   \n",
       "Records    4066.0     1.164781     0.371029    1.0     1.00     1.0     1.00   \n",
       "Job        4066.0     1.653960     0.944476    0.0     1.00     1.0     3.00   \n",
       "Expenses   4066.0    55.466306    18.561569   35.0    35.00    52.0    73.00   \n",
       "Income     4066.0   129.380964    83.130883    0.0    80.00   120.0   163.00   \n",
       "Assets     4066.0  5034.268815  9599.235962    0.0     0.00  3000.0  6000.00   \n",
       "Debt       4066.0   346.581407  1221.159598    0.0     0.00     0.0     0.00   \n",
       "Amount     4066.0  1012.542056   420.009728  100.0   700.00  1000.0  1300.00   \n",
       "Price      4066.0  1414.409247   484.906211  105.0  1111.25  1398.0  1670.75   \n",
       "bin_age    4066.0     4.214953     2.937652    0.0     2.00     4.0     7.00   \n",
       "\n",
       "                max  \n",
       "Status          2.0  \n",
       "Seniority      32.0  \n",
       "Home            6.0  \n",
       "Time           72.0  \n",
       "Age            68.0  \n",
       "Marital         3.0  \n",
       "Records         2.0  \n",
       "Job             4.0  \n",
       "Expenses      114.0  \n",
       "Income        905.0  \n",
       "Assets     250000.0  \n",
       "Debt        30000.0  \n",
       "Amount       2400.0  \n",
       "Price        3318.0  \n",
       "bin_age         9.0  "
      ]
     },
     "execution_count": 11,
     "metadata": {},
     "output_type": "execute_result"
    }
   ],
   "source": [
    "credit_df = credit_df[(np.abs(stats.zscore(credit_df)) < 3).all(axis=1)]\n",
    "credit_df.describe().transpose()"
   ]
  },
  {
   "cell_type": "code",
   "execution_count": null,
   "metadata": {},
   "outputs": [],
   "source": []
  },
  {
   "cell_type": "markdown",
   "metadata": {},
   "source": [
    "Now, in order to fit a logistic regression model, we must put all objective and subjective features together as X and the target feature alone as y. After this, you split the X and y into training and test datasets, but I made sure to include random_state for reproducibility:"
   ]
  },
  {
   "cell_type": "code",
   "execution_count": 12,
   "metadata": {},
   "outputs": [],
   "source": [
    "credit_df['Status'] = credit_df['Status'].map(lambda x: 1 if x == 2 else 0)\n",
    "y = credit_df['Status']\n",
    "X = credit_df.drop(['Status'], axis=1).copy()\n",
    "X_train, X_test, y_train, y_test = \\\n",
    "                train_test_split(X, y, test_size=0.20, random_state=41)"
   ]
  },
  {
   "cell_type": "markdown",
   "metadata": {},
   "source": [
    "We will fit the model using the training data and print a summary of the results:\n"
   ]
  },
  {
   "cell_type": "code",
   "execution_count": 13,
   "metadata": {},
   "outputs": [
    {
     "name": "stderr",
     "output_type": "stream",
     "text": [
      "C:\\ProgramData\\Anaconda3\\lib\\site-packages\\numpy\\core\\fromnumeric.py:2389: FutureWarning: Method .ptp is deprecated and will be removed in a future version. Use numpy.ptp instead.\n",
      "  return ptp(axis=axis, out=out, **kwargs)\n"
     ]
    },
    {
     "name": "stdout",
     "output_type": "stream",
     "text": [
      "Optimization terminated successfully.\n",
      "         Current function value: 0.433324\n",
      "         Iterations 7\n",
      "                          Results: Logit\n",
      "==================================================================\n",
      "Model:              Logit            Pseudo R-squared: 0.256      \n",
      "Dependent Variable: Status           AIC:              2848.3414  \n",
      "Date:               2021-08-30 10:43 BIC:              2939.6468  \n",
      "No. Observations:   3252             Log-Likelihood:   -1409.2    \n",
      "Df Model:           14               LL-Null:          -1894.7    \n",
      "Df Residuals:       3237             LLR p-value:      2.4645e-198\n",
      "Converged:          1.0000           Scale:            1.0000     \n",
      "No. Iterations:     7.0000                                        \n",
      "-------------------------------------------------------------------\n",
      "               Coef.   Std.Err.     z      P>|z|    [0.025   0.975]\n",
      "-------------------------------------------------------------------\n",
      "const         -2.6871    0.6542   -4.1074  0.0000  -3.9693  -1.4049\n",
      "Seniority     -0.1026    0.0093  -11.0048  0.0000  -0.1209  -0.0843\n",
      "Home           0.0123    0.0307    0.4008  0.6886  -0.0478   0.0724\n",
      "Time           0.0039    0.0042    0.9422  0.3461  -0.0043   0.0121\n",
      "Age           -0.0012    0.0238   -0.0497  0.9604  -0.0478   0.0454\n",
      "Marital       -0.4113    0.1306   -3.1491  0.0016  -0.6673  -0.1553\n",
      "Records        1.7492    0.1222   14.3170  0.0000   1.5097   1.9886\n",
      "Job            0.2517    0.0535    4.7074  0.0000   0.1469   0.3564\n",
      "Expenses       0.0213    0.0032    6.6520  0.0000   0.0150   0.0276\n",
      "Income        -0.0091    0.0008  -11.4819  0.0000  -0.0107  -0.0076\n",
      "Assets        -0.0001    0.0000   -5.5722  0.0000  -0.0001  -0.0000\n",
      "Debt           0.0001    0.0000    3.4184  0.0006   0.0001   0.0002\n",
      "Amount         0.0023    0.0002   10.5201  0.0000   0.0019   0.0027\n",
      "Price         -0.0015    0.0002   -8.5011  0.0000  -0.0018  -0.0011\n",
      "bin_age        0.0053    0.0874    0.0611  0.9513  -0.1660   0.1767\n",
      "==================================================================\n",
      "\n"
     ]
    }
   ],
   "source": [
    "\n",
    "log_model = sm.Logit(y_train, sm.add_constant(X_train))\n",
    "log_result = log_model.fit()\n",
    "print(log_result.summary2()) # Printing summary2() on the fitted model produces the following output"
   ]
  },
  {
   "cell_type": "markdown",
   "metadata": {},
   "source": [
    "The preceding summary helps us to understand which X features contributed the most to the y credit scoring using the model coefficients (labeled Coef. in the table). Much like with linear regression, they are like a weight applied to every predictor. However, the linear combination exponent is a logistic function. This makes the interpretation more difficult. I'll explain this in my next article  on Interpretation Challenges.\n",
    "\n",
    "We can tell by looking at it that the features with the absolute highest values are  `Marital` and `Seniority`.\n",
    "\n",
    "\n",
    "\n",
    "\n"
   ]
  },
  {
   "cell_type": "code",
   "execution_count": 14,
   "metadata": {},
   "outputs": [
    {
     "data": {
      "text/plain": [
       "Records      5.749854\n",
       "Job          1.286166\n",
       "Expenses     1.021551\n",
       "Home         1.012364\n",
       "bin_age      1.005354\n",
       "Time         1.003949\n",
       "Amount       1.002316\n",
       "Debt         1.000146\n",
       "Assets       0.999944\n",
       "Age          0.998820\n",
       "Price        0.998535\n",
       "Income       0.990905\n",
       "Seniority    0.902500\n",
       "Marital      0.662799\n",
       "const        0.068079\n",
       "dtype: float64"
      ]
     },
     "execution_count": 14,
     "metadata": {},
     "output_type": "execute_result"
    }
   ],
   "source": [
    "np.exp(log_result.params).sort_values(ascending=False)"
   ]
  },
  {
   "cell_type": "markdown",
   "metadata": {},
   "source": [
    "The question we need to ask is why the exponential? The coefficients are the log odds, which are the logarithms of the odds. Also, odds are the probability of a positive case over the probability of a negative case, where the positive case is the phenomenon we are trying to predict. \n",
    "\n",
    "Back to our credit scoring case. Now that we have the odds, we can interprete what it means. For example, what do the odds mean in the case of being married? It means that the odds of credit scoring increases by a factor of 1.51 for each additional unit of being married, provided every other feature stays unchanged. Being ableo explain the impact of a feature on the model in such tangible terms is one of the advantages of an `intrinsically interpretable` model such as logistic regression"
   ]
  },
  {
   "cell_type": "markdown",
   "metadata": {},
   "source": [
    "Although the `odds` provide us with useful information, they don't tell us what matters the most and, therefore, by themselves, cannot be used to measure feature importance. But how could that be? If something has higher odds, then it must matter more, right? Well for starters, they all have different scales, so that makes a huge difference. This is because if you are to measure the odds of how nuch something increases, you have to know by how much it typically increases because that provides context. For example, we could say that the odds of an applicant being granted a loan is 0.66 after their first loan is given to them. This statement is meaningless to you unless you know the net worth of the applicant's income and the applicants credit score history.\n",
    "\n",
    "To provide context to our odds, we can easily calculate the standard deviation of our features using the `np.std` function:\n"
   ]
  },
  {
   "cell_type": "code",
   "execution_count": 15,
   "metadata": {},
   "outputs": [
    {
     "data": {
      "text/plain": [
       "Seniority       7.487746\n",
       "Home            1.621719\n",
       "Time           14.611755\n",
       "Age            10.851184\n",
       "Marital         0.447501\n",
       "Records         0.370741\n",
       "Job             0.951558\n",
       "Expenses       18.415899\n",
       "Income         79.682088\n",
       "Assets       9639.626236\n",
       "Debt         1229.140925\n",
       "Amount        420.564135\n",
       "Price         486.766477\n",
       "bin_age         2.931092\n",
       "dtype: float64"
      ]
     },
     "execution_count": 15,
     "metadata": {},
     "output_type": "execute_result"
    }
   ],
   "source": [
    "np.std(X_train, 0)"
   ]
  },
  {
   "cell_type": "markdown",
   "metadata": {},
   "source": [
    "As you can tell by the output, ordinal features can only typically vary by one at most, but continuous features, such as `Assets`and `Debt` can vary 100 - 1000 times more, as evidenced by the standard deviation of the features. "
   ]
  },
  {
   "cell_type": "markdown",
   "metadata": {},
   "source": [
    "Another reason why `odds` cannot be used tomeasure feature importance is because despite favourable odds, sometimes features are not statisticall significant. They are entangled with other features in such a way they might appear to be significant, but we can prove that they aren't. If the `p-value` is less than 0.05, it means that there is a strong evidence that the feature is significant. However, when it's above 0.05, especially by a large margi, there is no statistical evidence thatit affects the predicted score. Such is the case with `Home`, `Time`, `Age`, `bin_age` at least in this dataset.\n",
    "\n",
    "If we are trying to obtain what features matters most, one way to approximate this is to multiply the coefficients by the standard deviations of the features. Incoporating the standard deviations accounts for differences in variances between features. Hence, it is better if we get `Home`, `Time`, `Age`, `bin_age` out of the way too while we are at it:"
   ]
  },
  {
   "cell_type": "code",
   "execution_count": 16,
   "metadata": {},
   "outputs": [
    {
     "data": {
      "text/plain": [
       "Amount       0.973035\n",
       "Seniority    0.768144\n",
       "Income       0.728014\n",
       "Price        0.713635\n",
       "Records      0.648491\n",
       "Assets       0.541689\n",
       "Expenses     0.392673\n",
       "Job          0.239474\n",
       "Marital      0.184050\n",
       "Debt         0.179711\n",
       "dtype: float64"
      ]
     },
     "execution_count": 16,
     "metadata": {},
     "output_type": "execute_result"
    }
   ],
   "source": [
    "coefs = log_result.params.drop(labels=['const', 'Home', 'Time', 'Age', 'bin_age'])\n",
    "stdv = np.std(X_train, 0).drop(labels=['Home', 'Time', 'Age', 'bin_age'])\n",
    "abs(coefs * stdv).sort_values(ascending=False)"
   ]
  },
  {
   "cell_type": "markdown",
   "metadata": {},
   "source": [
    "The preceding table can be interpreted as an `approximation of risk factors` from high to low according to the model. It is also a `model specific` feature importance method, in other words, a global model(modular) interpretation method. There's a lot of new concepts to unpack here so let's break them down.\n"
   ]
  },
  {
   "cell_type": "markdown",
   "metadata": {},
   "source": [
    "There are two model interpretability method types:\n",
    "<li> <b>Model-specific:</b> When the method can only be used for a specific model class, then it's model-specific.\n",
    "<li> <b>Model-agnostic:</b> These are methods that can work with any model class."
   ]
  },
  {
   "cell_type": "markdown",
   "metadata": {},
   "source": [
    "## Model Interpretability scopes"
   ]
  },
  {
   "cell_type": "markdown",
   "metadata": {},
   "source": [
    "There are several model interpretability scopes:\n",
    "<li><b>Global holistic interpretation:</b> You can explain how a model makes predictions simply because you can comprehend the entire model at once with a complete understanding of the data, and it's a trained model.</li>\n",
    "    \n",
    "<li><b>Global modular interpretation:</b> In the same way that you can explain the role of parts of an internal combustion engine in the `whole` process of turning fuel into movement, you can also do so with a model. For instance, in the credit scoring risk factor example, our feature importance method tells us that `Amount`, `Seniority`, `Income` and `Price` are the parts that impact the `whole` the most. Feature importance is only one of many global modular interpretation methods but arguably the most important one. My subsequent articles goes into model detail on feature importance.   </li>\n",
    "\n",
    "<li><b>Local single-prediction interpretation:</b> You can explain why a single prediction was made. The next example will illustrate this concept. </li>\n",
    "\n",
    "<li><b>Local group-prediction interpretation:</b> The same as single-prediction, except that it applies to groups of predictions."
   ]
  },
  {
   "cell_type": "markdown",
   "metadata": {},
   "source": [
    "Congratulations! You've already determined the risk factors with a global model interpretation method, but the `CTO` of your company also want you to know whether the model can be used to interpret individual cases. So, we'll look into that in my next article. Be on the watch for the next article on  local single-prediction interpretation and local group-prediction interpretation. \n",
    "\n",
    "Thank you!!!"
   ]
  },
  {
   "cell_type": "markdown",
   "metadata": {},
   "source": [
    "## Local Single Prediction Interpretation of a Credit Scoring Model\n",
    "\n",
    "Since, we are starting off with the same credit score dataset we used in the article on global inerpretation of credit score model using logistic regression.\n",
    "\n",
    "The same jupyter notebook was used in writing the code and interpreting the analysis.\n"
   ]
  },
  {
   "cell_type": "markdown",
   "metadata": {},
   "source": [
    "### Interpreting individual predictions with logistic regression"
   ]
  },
  {
   "cell_type": "markdown",
   "metadata": {},
   "source": [
    "Now, what if we used the model to predict loan eligibility for the entire test dataset? You could do so like this:\n"
   ]
  },
  {
   "cell_type": "code",
   "execution_count": 17,
   "metadata": {},
   "outputs": [
    {
     "name": "stdout",
     "output_type": "stream",
     "text": [
      "[3.98275572e-01 1.98240630e-01 2.25906902e-01 6.49470219e-02\n",
      " 1.05605018e-01 1.72528291e-01 6.25025302e-01 3.63273821e-01\n",
      " 2.80129025e-02 6.90233673e-01 5.98813198e-02 1.21831960e-01\n",
      " 6.11058326e-01 3.66729808e-01 3.82376190e-01 3.71960507e-01\n",
      " 1.23565753e-01 5.52225484e-01 2.40564811e-01 4.58197600e-02\n",
      " 3.04451741e-01 1.91558761e-01 2.15817019e-01 1.32479975e-01\n",
      " 9.41152353e-02 4.35236799e-01 3.58360777e-01 4.54783574e-01\n",
      " 6.72144213e-02 5.31428862e-01 2.35594095e-01 3.97296691e-01\n",
      " 2.89817092e-01 2.72480278e-02 4.01312720e-01 1.23584388e-01\n",
      " 9.57974750e-03 1.27911969e-01 9.56506451e-03 2.50728489e-01\n",
      " 5.31461408e-01 5.27506828e-02 2.09524877e-01 6.61291728e-01\n",
      " 1.43773120e-02 2.44638399e-02 2.84920897e-01 5.45195903e-02\n",
      " 1.94639372e-01 3.27445773e-02 2.22178910e-01 3.34851317e-01\n",
      " 5.03868853e-01 1.72700129e-01 8.32502379e-01 2.28384592e-02\n",
      " 8.30769941e-01 1.56196812e-02 3.77027169e-02 1.10662427e-01\n",
      " 3.23308429e-01 2.80643205e-01 6.27654646e-02 1.73758558e-01\n",
      " 3.10141686e-01 3.81157557e-01 2.05900965e-01 9.92294249e-02\n",
      " 9.13864524e-01 4.57823128e-02 3.04132191e-01 2.04657148e-01\n",
      " 4.53340637e-02 5.29470999e-01 9.22941736e-02 7.12674692e-02\n",
      " 1.29607358e-02 2.90581024e-02 1.17468760e-01 1.06484672e-01\n",
      " 1.49087077e-01 1.00846006e-01 1.13038427e-02 7.13124943e-02\n",
      " 6.17143330e-02 9.24319666e-03 2.41739247e-01 6.90197809e-01\n",
      " 1.24218563e-02 6.01714194e-03 8.69614494e-02 8.44247431e-02\n",
      " 3.03361055e-01 1.59948810e-01 1.63720267e-02 8.69291919e-02\n",
      " 2.75609857e-01 5.16425082e-02 7.32255021e-02 6.99578425e-02\n",
      " 7.24148142e-01 2.53943184e-01 4.95700189e-01 1.38220446e-01\n",
      " 1.38834822e-01 3.74120854e-03 4.26318216e-02 4.07623359e-01\n",
      " 2.73174328e-01 1.34375721e-01 8.43121253e-02 4.75741001e-01\n",
      " 2.90960685e-01 1.33993370e-01 9.74446806e-02 1.46434570e-02\n",
      " 2.73083288e-01 1.15632015e-01 3.90312696e-01 9.87031537e-02\n",
      " 7.24674136e-01 6.78108827e-01 3.53086508e-01 1.44495151e-01\n",
      " 1.08986228e-03 2.81249900e-04 1.14328831e-01 5.68693986e-01\n",
      " 2.35522160e-01 2.93526240e-02 2.37790141e-01 2.64822909e-01\n",
      " 2.40204892e-01 1.40736063e-01 3.08424157e-01 3.40045527e-01\n",
      " 1.26964992e-02 1.02736641e-02 1.98483695e-01 2.46075184e-01\n",
      " 5.89337475e-01 1.12434966e-01 4.14144507e-02 7.94727768e-01\n",
      " 6.21488392e-01 6.34034210e-01 3.18923039e-01 3.21040554e-02\n",
      " 1.13307586e-01 2.90282343e-02 1.51555857e-03 1.95491881e-01\n",
      " 2.12930564e-01 1.34103749e-01 2.34681608e-01 2.24147949e-01\n",
      " 2.09693280e-01 4.24497353e-01 4.16958800e-02 1.16864046e-01\n",
      " 5.49290120e-01 7.37220727e-01 1.91447415e-01 1.10601268e-01\n",
      " 5.08901654e-02 4.19682878e-01 3.91945821e-01 3.89705277e-01\n",
      " 2.53611097e-01 2.65768973e-01 2.94241388e-02 1.29398688e-01\n",
      " 8.09378627e-01 1.44745945e-01 9.14659856e-01 4.63812557e-01\n",
      " 9.32410038e-02 1.11640521e-02 5.50991974e-01 6.19685794e-03\n",
      " 1.97346512e-01 1.58193862e-01 4.34394429e-01 2.66314549e-01\n",
      " 7.82906260e-02 2.12564070e-01 6.50708187e-02 4.23376226e-01\n",
      " 7.48801152e-01 2.13748832e-01 3.38365098e-01 2.41113447e-01\n",
      " 8.59699796e-01 6.25120101e-01 4.58431695e-01 8.13039905e-01\n",
      " 5.97186376e-02 2.34143115e-02 1.91759201e-01 1.86113249e-01\n",
      " 1.13451694e-01 3.52032116e-01 4.01538930e-01 6.23231966e-03\n",
      " 1.23611087e-02 1.08890617e-01 2.15422864e-01 4.56215156e-01\n",
      " 2.84430471e-01 8.39743028e-01 3.42803869e-01 2.16870818e-01\n",
      " 3.90935579e-01 4.03013902e-01 1.02105492e-02 3.09035554e-01\n",
      " 1.50803602e-02 7.19713046e-02 3.50615759e-01 1.69625070e-01\n",
      " 4.84862721e-01 2.13176649e-01 1.46167763e-01 4.95273807e-01\n",
      " 5.56653210e-02 1.81580829e-01 4.42830447e-03 2.86914522e-01\n",
      " 1.55809543e-02 5.35599119e-02 7.86452242e-01 5.41716523e-01\n",
      " 8.05185350e-02 2.16707347e-01 8.25826255e-02 7.25792609e-03\n",
      " 1.19490697e-01 9.81855950e-01 8.37523866e-01 1.59897102e-01\n",
      " 1.36900551e-01 3.70455942e-01 9.00891534e-02 3.64466986e-01\n",
      " 7.63866168e-02 1.83813664e-01 2.70552994e-01 4.00469192e-01\n",
      " 5.24684748e-01 8.76050479e-01 5.03936683e-01 2.00000053e-01\n",
      " 3.41269666e-01 1.76878908e-01 3.02980935e-01 3.92490626e-01\n",
      " 1.91570427e-01 3.16181572e-02 1.03489430e-01 2.47589725e-01\n",
      " 4.09899286e-02 4.07500476e-01 4.79830493e-02 2.85271245e-01\n",
      " 2.62746184e-01 1.28267852e-01 2.98212719e-01 2.75325669e-01\n",
      " 3.47942499e-01 3.29096772e-01 2.63468045e-02 2.34771897e-02\n",
      " 4.55376070e-02 5.64551484e-02 1.43942936e-01 3.30926094e-01\n",
      " 1.88965673e-01 5.87806477e-01 2.05063797e-02 7.04607693e-02\n",
      " 7.97592397e-03 9.16009767e-03 3.20535604e-01 4.16677876e-02\n",
      " 4.47923101e-02 2.36044769e-02 1.23591314e-01 4.35636104e-01\n",
      " 4.78905305e-02 2.74927221e-01 1.63815434e-01 9.19633874e-03\n",
      " 2.41189656e-01 5.51948437e-01 1.42914735e-02 8.36514297e-02\n",
      " 6.54267241e-02 3.27941953e-01 7.77138322e-02 1.85153738e-01\n",
      " 3.55101007e-01 1.14429794e-01 2.87601595e-01 3.10250148e-01\n",
      " 4.03789027e-01 6.62549038e-01 4.27597640e-02 3.59284067e-01\n",
      " 6.74756166e-03 3.07944855e-01 7.10291222e-01 2.76946108e-01\n",
      " 3.78166548e-01 7.45103481e-04 2.15057715e-01 6.63449213e-01\n",
      " 8.33327290e-01 3.55546517e-02 5.42671226e-02 2.51026152e-01\n",
      " 2.87016914e-01 5.81691666e-03 6.48165533e-02 6.30279143e-01\n",
      " 3.56308105e-01 6.64605914e-02 2.55150502e-01 8.82389087e-02\n",
      " 7.64152610e-01 2.19326568e-03 1.38126356e-01 5.62504285e-01\n",
      " 1.35901049e-01 5.94033480e-01 1.62310242e-01 1.77561566e-01\n",
      " 3.91307111e-01 2.54854231e-01 7.71377624e-01 3.86655823e-01\n",
      " 5.21785242e-01 7.09655024e-01 3.49997753e-01 2.78999978e-01\n",
      " 6.07421101e-02 1.34092185e-01 1.47333537e-01 2.00698544e-01\n",
      " 3.15788741e-02 1.76986696e-02 1.14459334e-01 8.08863345e-01\n",
      " 1.64277841e-01 4.85562323e-01 2.72707841e-02 2.24338595e-02\n",
      " 4.81904852e-01 1.74382806e-01 3.10243993e-01 2.43361189e-01\n",
      " 7.60916961e-01 2.24053824e-02 3.98399909e-01 8.37023531e-02\n",
      " 4.91505391e-01 2.57222962e-01 1.35196665e-01 1.05454887e-01\n",
      " 4.84935520e-01 2.98817722e-01 6.40887033e-03 4.01158674e-01\n",
      " 7.18711832e-01 1.41221869e-02 3.21297848e-01 1.01014993e-01\n",
      " 2.57558402e-01 1.83423561e-01 1.12457177e-01 2.08920163e-01\n",
      " 1.90313363e-03 2.34698334e-01 5.53791528e-01 2.38628117e-01\n",
      " 1.99290757e-01 5.27706650e-01 4.06371836e-01 1.70742504e-01\n",
      " 1.22498998e-01 3.17911584e-02 4.69011594e-01 5.89196218e-02\n",
      " 1.24965344e-01 1.46226771e-01 3.96338064e-02 7.09605591e-01\n",
      " 2.97252644e-02 1.86971349e-01 5.57238956e-02 3.59546309e-01\n",
      " 2.99896976e-01 2.24588906e-01 1.14373059e-01 1.03414149e-01\n",
      " 4.75995247e-01 5.26758495e-01 3.55080230e-01 4.00482228e-01\n",
      " 1.23529689e-01 3.31860833e-02 2.53459749e-02 1.81153195e-01\n",
      " 1.93131786e-01 2.90261114e-02 4.20197236e-01 3.51395104e-01\n",
      " 8.94408774e-02 3.40029244e-01 3.98853540e-01 3.54470702e-01\n",
      " 2.97629961e-02 2.35020467e-02 2.24345640e-01 1.88092009e-02\n",
      " 5.47757257e-02 1.61248103e-02 1.04489540e-01 2.32063602e-02\n",
      " 2.27779531e-01 1.89060789e-01 1.09015882e-01 6.29894618e-01\n",
      " 4.96479525e-04 1.58864485e-01 4.84654899e-01 1.81824257e-01\n",
      " 1.41761428e-02 3.81509691e-01 3.13356333e-01 4.01209595e-01\n",
      " 3.42298213e-01 2.10981574e-01 1.50463488e-02 2.74633109e-01\n",
      " 3.86467015e-01 1.58873327e-01 6.30006413e-01 4.94438723e-03\n",
      " 6.89506815e-02 1.61417127e-01 5.90777726e-03 1.36598029e-01\n",
      " 1.17791681e-01 1.36279188e-02 3.37880400e-02 4.03191033e-01\n",
      " 1.11833921e-01 2.62606483e-01 2.40852670e-01 8.29270014e-01\n",
      " 8.74394352e-01 6.04319607e-01 2.33293831e-01 1.74445014e-01\n",
      " 4.52013673e-01 7.89971281e-01 1.20837071e-01 3.29216667e-01\n",
      " 4.54072357e-03 6.33271735e-02 2.29416002e-01 1.68872557e-01\n",
      " 2.52635889e-01 6.77996376e-01 5.95344168e-03 2.89316706e-02\n",
      " 1.28012769e-02 3.27958925e-01 6.43425679e-01 2.42769597e-01\n",
      " 9.69223448e-03 2.80435081e-01 1.55364549e-03 9.59347981e-03\n",
      " 6.04420236e-02 4.47470291e-01 2.54996488e-02 1.37728012e-01\n",
      " 2.84992320e-02 4.31533297e-01 7.18380617e-02 1.03798146e-02\n",
      " 3.84471306e-01 4.60710601e-02 1.94266291e-01 3.57174285e-01\n",
      " 3.74800854e-02 9.63758528e-02 1.38319678e-01 2.91543993e-01\n",
      " 8.21665011e-01 1.68347828e-01 4.45276123e-02 1.93189680e-01\n",
      " 2.07941739e-01 2.90311110e-02 6.41212186e-01 7.73405631e-02\n",
      " 2.57192591e-01 5.67379630e-01 5.64445354e-02 5.16624291e-01\n",
      " 2.04378399e-01 1.81114108e-01 7.97675066e-01 3.62765972e-01\n",
      " 4.17039996e-01 1.70457417e-01 7.69390529e-01 6.08337769e-01\n",
      " 3.02411520e-01 2.94532083e-01 2.20755855e-01 2.86898118e-01\n",
      " 2.50411111e-01 4.89113903e-01 2.34639334e-01 1.46644350e-01\n",
      " 4.98780979e-03 3.49681172e-02 3.37522083e-01 8.03594640e-02\n",
      " 2.34287669e-02 9.14542531e-02 7.58112879e-02 1.14877847e-01\n",
      " 2.79669648e-01 1.76348031e-01 8.86317157e-02 8.08902128e-01\n",
      " 1.97104848e-01 3.36143551e-01 6.78273465e-01 1.41160320e-01\n",
      " 2.17529904e-02 1.86865020e-01 8.11894441e-01 3.85004983e-01\n",
      " 1.85540850e-01 2.36834155e-01 5.57388687e-01 4.23227495e-01\n",
      " 1.68988317e-02 8.12932089e-03 8.19933977e-02 5.97278358e-01\n",
      " 3.51673956e-02 3.04354520e-02 3.12108349e-01 5.60010225e-02\n",
      " 4.17416381e-01 3.52334042e-01 2.84819198e-03 6.34676120e-01\n",
      " 8.05852890e-01 1.48989775e-02 2.81820573e-02 5.19915480e-02\n",
      " 8.28072068e-02 7.79902948e-02 4.16943461e-02 4.49663591e-01\n",
      " 4.32353024e-01 8.47145859e-02 2.26975897e-01 3.60692126e-01\n",
      " 2.54155522e-01 8.02286385e-02 4.43140070e-02 6.71847550e-03\n",
      " 7.60456245e-03 1.34692560e-01 6.62046636e-01 6.10180533e-01\n",
      " 2.29011962e-01 4.04687449e-01 7.75218120e-01 2.09778174e-01\n",
      " 1.87439208e-01 5.29108240e-02 6.28477695e-01 3.76888455e-01\n",
      " 1.16056028e-01 6.79841659e-01 7.82871610e-01 1.92300565e-01\n",
      " 2.25082245e-01 5.26402719e-02 2.51943856e-02 5.08529533e-04\n",
      " 4.57557216e-03 5.16712377e-01 3.28046348e-01 3.69525367e-02\n",
      " 4.57174762e-02 1.12337492e-01 1.63332772e-01 5.71579017e-01\n",
      " 5.50907967e-01 4.62971332e-01 4.24900164e-02 2.84861211e-01\n",
      " 1.09263460e-01 4.84089255e-01 4.53278671e-01 6.16100438e-02\n",
      " 1.46778290e-01 4.69338171e-01 4.66305177e-02 9.98501384e-02\n",
      " 9.43484948e-03 3.30374979e-01 6.89938924e-03 5.86335989e-01\n",
      " 1.25052483e-01 3.67828816e-01 8.56690663e-02 3.35636461e-01\n",
      " 1.78837407e-01 8.63994212e-02 3.45626878e-01 3.51032793e-02\n",
      " 2.42922068e-02 3.18553043e-01 4.68820307e-02 5.63740390e-03\n",
      " 2.96681489e-01 1.80750524e-01 8.18790472e-01 9.73082125e-01\n",
      " 5.34890061e-01 1.62302170e-02 4.07928644e-01 3.19238212e-02\n",
      " 2.48137092e-01 3.62868992e-01 1.27246843e-01 5.59732223e-02\n",
      " 1.96821368e-01 6.63345125e-01 1.06689148e-01 5.60612686e-01\n",
      " 2.46637100e-02 3.53524687e-01 1.87062019e-01 4.01306642e-02\n",
      " 1.46692066e-01 2.43013626e-01 5.31040937e-01 1.10201587e-01\n",
      " 7.16280896e-02 2.36203925e-02 9.14923476e-02 3.07168317e-01\n",
      " 7.28277498e-01 3.33082165e-02 9.11564910e-02 2.49259588e-01\n",
      " 2.94578924e-01 3.08597417e-02 3.21641051e-01 5.57352572e-01\n",
      " 1.90252001e-01 2.37200943e-01 1.48241139e-01 5.99023512e-01\n",
      " 1.52584979e-01 3.60716936e-01 6.71578349e-01 7.34800316e-01\n",
      " 8.71601619e-01 1.49368246e-01 6.38961301e-01 4.74021239e-01\n",
      " 7.08104716e-02 3.93765007e-01 2.19549435e-01 3.17442595e-01\n",
      " 3.32473050e-01 3.70255428e-02 2.47529070e-01 3.24114444e-02\n",
      " 1.80219254e-02 8.30857646e-02 4.51783530e-01 5.07840288e-02\n",
      " 9.61082685e-01 7.74400785e-01 1.00996731e-01 3.94390694e-01\n",
      " 7.30117782e-02 8.15468976e-02 1.32481427e-01 5.24878385e-01\n",
      " 3.72665234e-02 7.82840377e-01 2.70609887e-01 4.77875934e-01\n",
      " 4.09568035e-01 9.18761770e-02 3.77533894e-01 4.41487319e-01\n",
      " 1.14198707e-01 1.59803036e-01 2.97429974e-02 4.22095027e-01\n",
      " 1.74977592e-01 3.82074282e-01 1.32922466e-01 6.60758319e-02\n",
      " 1.00893186e-01 5.68090892e-02 4.17920281e-01 1.17298716e-01\n",
      " 4.56301285e-01 1.51947786e-01 4.32479029e-02 1.17556158e-01\n",
      " 7.78620087e-04 9.30626102e-01 3.42601481e-01 4.45243536e-02\n",
      " 2.31064211e-02 1.98295056e-01 6.08181314e-01 2.48318461e-01\n",
      " 6.80731878e-01 3.95901405e-02 6.20269915e-01 1.00856326e-01\n",
      " 1.22951930e-01 4.93360979e-01 7.45669361e-01 1.28481965e-01\n",
      " 4.15523122e-01 3.02567735e-01 2.92745638e-02 4.23681947e-02\n",
      " 2.99248716e-01 7.36140211e-02 1.31342232e-01 6.50348472e-02\n",
      " 6.45163962e-02 2.65459539e-01 3.27228732e-01 3.25068072e-01\n",
      " 1.19067808e-01 2.10149282e-01 4.10255422e-01 5.22237380e-01\n",
      " 1.89583461e-01 5.61882456e-01 4.46751400e-02 3.97250172e-01\n",
      " 9.41797129e-05 8.39855203e-01 9.45601305e-02 3.11478619e-02\n",
      " 7.30708298e-01 2.91558115e-02 2.47278822e-01 9.57738760e-02\n",
      " 1.13783270e-02 8.89922749e-02 4.10284138e-01 9.72186145e-02\n",
      " 6.67595717e-01 2.26381353e-01 1.56268979e-01 3.56092564e-02\n",
      " 1.74328150e-01 1.29341692e-01 5.84603395e-01 9.02677598e-01\n",
      " 2.54644234e-01 1.56437861e-01 6.77412377e-02 6.37310991e-05\n",
      " 1.09864601e-03 4.36532920e-02 9.03723402e-04 2.44080675e-01\n",
      " 3.41154136e-01 5.23749956e-02 6.83013749e-01 1.53461905e-01\n",
      " 6.85611369e-01 1.01558170e-02 5.26813916e-01 1.27109337e-01\n",
      " 2.78170615e-01 3.63157207e-02 3.70257939e-01 5.85470620e-01\n",
      " 5.37551728e-01 3.09605798e-01 1.60375396e-01 2.84404636e-01\n",
      " 1.05224069e-01 1.82887050e-01 4.05269935e-01 1.27776292e-01\n",
      " 2.47072661e-01 6.70720228e-02]\n"
     ]
    }
   ],
   "source": [
    "y_pred = log_result.predict(sm.add_constant(X_test)).to_numpy()\n",
    "print(y_pred)\n",
    "# The resulting array is the probabilities that each test case is positive for loan status."
   ]
  },
  {
   "cell_type": "markdown",
   "metadata": {},
   "source": [
    "Let's take one of the positive cases; test case #542:"
   ]
  },
  {
   "cell_type": "code",
   "execution_count": 51,
   "metadata": {},
   "outputs": [
    {
     "name": "stdout",
     "output_type": "stream",
     "text": [
      "0.6782734647265871\n"
     ]
    }
   ],
   "source": [
    "print(y_pred[542])\n",
    "# We know that it predicted positive for loan status."
   ]
  },
  {
   "cell_type": "code",
   "execution_count": 52,
   "metadata": {},
   "outputs": [
    {
     "name": "stdout",
     "output_type": "stream",
     "text": [
      "Seniority       1\n",
      "Home            5\n",
      "Time           36\n",
      "Age            28\n",
      "Marital         2\n",
      "Records         2\n",
      "Job             1\n",
      "Expenses       60\n",
      "Income         95\n",
      "Assets       4000\n",
      "Debt            0\n",
      "Amount        500\n",
      "Price         625\n",
      "bin_age         2\n",
      "Name: 1654, dtype: int64\n"
     ]
    }
   ],
   "source": [
    "print(X_test.iloc[542])\n",
    "\n",
    "# The following is the output:"
   ]
  },
  {
   "cell_type": "markdown",
   "metadata": {},
   "source": [
    "So, by the looks of the preceding series, we know that the following applies to this individual:\n",
    "1. It seems this individual does have any debt/\n",
    "3. Assets is okay. It shows this individual is capable of paying the loan.\n",
    "4. Marital of 2. Shows this person is married.\n",
    "5. Expenses is okay when compared to the person's income."
   ]
  },
  {
   "cell_type": "markdown",
   "metadata": {},
   "source": [
    "But how do we put everything in context at the same time? We can't possibly visualize how one prediction compares with other ten thousand for every single feature and their respective loan status. Unfortunately, humans can't process that level of dimensionality, even if it were possible to visualize a twenty-dimensional hyperplane!"
   ]
  },
  {
   "cell_type": "markdown",
   "metadata": {},
   "source": [
    "This graphical interpretation method is what is termed a `decision boundary`. It draws boundaries for the classes, leaving areas that belong to one class or another. Such areas are called `decision regions`. In this case, we had three classes but we transformed the data to a two class problem, so we will see a graph with a single boundary between `status=0` and `status=1`, only concerning the two features we are comparing."
   ]
  },
  {
   "cell_type": "code",
   "execution_count": null,
   "metadata": {},
   "outputs": [],
   "source": [
    "\n"
   ]
  },
  {
   "cell_type": "code",
   "execution_count": null,
   "metadata": {},
   "outputs": [],
   "source": []
  },
  {
   "cell_type": "code",
   "execution_count": 53,
   "metadata": {},
   "outputs": [
    {
     "data": {
      "text/html": [
       "<div>\n",
       "<style scoped>\n",
       "    .dataframe tbody tr th:only-of-type {\n",
       "        vertical-align: middle;\n",
       "    }\n",
       "\n",
       "    .dataframe tbody tr th {\n",
       "        vertical-align: top;\n",
       "    }\n",
       "\n",
       "    .dataframe thead th {\n",
       "        text-align: right;\n",
       "    }\n",
       "</style>\n",
       "<table border=\"1\" class=\"dataframe\">\n",
       "  <thead>\n",
       "    <tr style=\"text-align: right;\">\n",
       "      <th></th>\n",
       "      <th>Status</th>\n",
       "      <th>Seniority</th>\n",
       "      <th>Home</th>\n",
       "      <th>Time</th>\n",
       "      <th>Age</th>\n",
       "      <th>Marital</th>\n",
       "      <th>Records</th>\n",
       "      <th>Job</th>\n",
       "      <th>Expenses</th>\n",
       "      <th>Income</th>\n",
       "      <th>Assets</th>\n",
       "      <th>Debt</th>\n",
       "      <th>Amount</th>\n",
       "      <th>Price</th>\n",
       "      <th>bin_age</th>\n",
       "    </tr>\n",
       "  </thead>\n",
       "  <tbody>\n",
       "    <tr>\n",
       "      <td>count</td>\n",
       "      <td>146.000000</td>\n",
       "      <td>146.000000</td>\n",
       "      <td>146.000000</td>\n",
       "      <td>146.000000</td>\n",
       "      <td>146.0</td>\n",
       "      <td>146.000000</td>\n",
       "      <td>146.000000</td>\n",
       "      <td>146.000000</td>\n",
       "      <td>146.000000</td>\n",
       "      <td>146.000000</td>\n",
       "      <td>146.000000</td>\n",
       "      <td>146.000000</td>\n",
       "      <td>146.000000</td>\n",
       "      <td>146.000000</td>\n",
       "      <td>146.0</td>\n",
       "    </tr>\n",
       "    <tr>\n",
       "      <td>mean</td>\n",
       "      <td>0.267123</td>\n",
       "      <td>5.582192</td>\n",
       "      <td>2.801370</td>\n",
       "      <td>47.219178</td>\n",
       "      <td>30.0</td>\n",
       "      <td>1.780822</td>\n",
       "      <td>1.198630</td>\n",
       "      <td>1.568493</td>\n",
       "      <td>53.095890</td>\n",
       "      <td>123.465753</td>\n",
       "      <td>3164.897260</td>\n",
       "      <td>439.164384</td>\n",
       "      <td>1040.616438</td>\n",
       "      <td>1425.554795</td>\n",
       "      <td>2.0</td>\n",
       "    </tr>\n",
       "    <tr>\n",
       "      <td>std</td>\n",
       "      <td>0.443980</td>\n",
       "      <td>4.836295</td>\n",
       "      <td>1.724548</td>\n",
       "      <td>15.602605</td>\n",
       "      <td>0.0</td>\n",
       "      <td>0.415114</td>\n",
       "      <td>0.400342</td>\n",
       "      <td>0.870256</td>\n",
       "      <td>15.835067</td>\n",
       "      <td>72.928039</td>\n",
       "      <td>4559.844011</td>\n",
       "      <td>1001.663795</td>\n",
       "      <td>422.834805</td>\n",
       "      <td>484.811076</td>\n",
       "      <td>0.0</td>\n",
       "    </tr>\n",
       "    <tr>\n",
       "      <td>min</td>\n",
       "      <td>0.000000</td>\n",
       "      <td>0.000000</td>\n",
       "      <td>1.000000</td>\n",
       "      <td>6.000000</td>\n",
       "      <td>30.0</td>\n",
       "      <td>1.000000</td>\n",
       "      <td>1.000000</td>\n",
       "      <td>1.000000</td>\n",
       "      <td>35.000000</td>\n",
       "      <td>0.000000</td>\n",
       "      <td>0.000000</td>\n",
       "      <td>0.000000</td>\n",
       "      <td>200.000000</td>\n",
       "      <td>425.000000</td>\n",
       "      <td>2.0</td>\n",
       "    </tr>\n",
       "    <tr>\n",
       "      <td>25%</td>\n",
       "      <td>0.000000</td>\n",
       "      <td>2.000000</td>\n",
       "      <td>2.000000</td>\n",
       "      <td>36.000000</td>\n",
       "      <td>30.0</td>\n",
       "      <td>2.000000</td>\n",
       "      <td>1.000000</td>\n",
       "      <td>1.000000</td>\n",
       "      <td>35.000000</td>\n",
       "      <td>80.000000</td>\n",
       "      <td>0.000000</td>\n",
       "      <td>0.000000</td>\n",
       "      <td>750.000000</td>\n",
       "      <td>1065.250000</td>\n",
       "      <td>2.0</td>\n",
       "    </tr>\n",
       "    <tr>\n",
       "      <td>50%</td>\n",
       "      <td>0.000000</td>\n",
       "      <td>4.000000</td>\n",
       "      <td>2.000000</td>\n",
       "      <td>60.000000</td>\n",
       "      <td>30.0</td>\n",
       "      <td>2.000000</td>\n",
       "      <td>1.000000</td>\n",
       "      <td>1.000000</td>\n",
       "      <td>48.000000</td>\n",
       "      <td>111.000000</td>\n",
       "      <td>2000.000000</td>\n",
       "      <td>0.000000</td>\n",
       "      <td>1000.000000</td>\n",
       "      <td>1375.500000</td>\n",
       "      <td>2.0</td>\n",
       "    </tr>\n",
       "    <tr>\n",
       "      <td>75%</td>\n",
       "      <td>1.000000</td>\n",
       "      <td>9.000000</td>\n",
       "      <td>5.000000</td>\n",
       "      <td>60.000000</td>\n",
       "      <td>30.0</td>\n",
       "      <td>2.000000</td>\n",
       "      <td>1.000000</td>\n",
       "      <td>2.000000</td>\n",
       "      <td>60.000000</td>\n",
       "      <td>165.000000</td>\n",
       "      <td>4500.000000</td>\n",
       "      <td>46.500000</td>\n",
       "      <td>1300.000000</td>\n",
       "      <td>1715.500000</td>\n",
       "      <td>2.0</td>\n",
       "    </tr>\n",
       "    <tr>\n",
       "      <td>max</td>\n",
       "      <td>1.000000</td>\n",
       "      <td>16.000000</td>\n",
       "      <td>6.000000</td>\n",
       "      <td>60.000000</td>\n",
       "      <td>30.0</td>\n",
       "      <td>2.000000</td>\n",
       "      <td>2.000000</td>\n",
       "      <td>4.000000</td>\n",
       "      <td>105.000000</td>\n",
       "      <td>350.000000</td>\n",
       "      <td>30000.000000</td>\n",
       "      <td>5500.000000</td>\n",
       "      <td>2000.000000</td>\n",
       "      <td>2750.000000</td>\n",
       "      <td>2.0</td>\n",
       "    </tr>\n",
       "  </tbody>\n",
       "</table>\n",
       "</div>"
      ],
      "text/plain": [
       "           Status   Seniority        Home        Time    Age     Marital  \\\n",
       "count  146.000000  146.000000  146.000000  146.000000  146.0  146.000000   \n",
       "mean     0.267123    5.582192    2.801370   47.219178   30.0    1.780822   \n",
       "std      0.443980    4.836295    1.724548   15.602605    0.0    0.415114   \n",
       "min      0.000000    0.000000    1.000000    6.000000   30.0    1.000000   \n",
       "25%      0.000000    2.000000    2.000000   36.000000   30.0    2.000000   \n",
       "50%      0.000000    4.000000    2.000000   60.000000   30.0    2.000000   \n",
       "75%      1.000000    9.000000    5.000000   60.000000   30.0    2.000000   \n",
       "max      1.000000   16.000000    6.000000   60.000000   30.0    2.000000   \n",
       "\n",
       "          Records         Job    Expenses      Income        Assets  \\\n",
       "count  146.000000  146.000000  146.000000  146.000000    146.000000   \n",
       "mean     1.198630    1.568493   53.095890  123.465753   3164.897260   \n",
       "std      0.400342    0.870256   15.835067   72.928039   4559.844011   \n",
       "min      1.000000    1.000000   35.000000    0.000000      0.000000   \n",
       "25%      1.000000    1.000000   35.000000   80.000000      0.000000   \n",
       "50%      1.000000    1.000000   48.000000  111.000000   2000.000000   \n",
       "75%      1.000000    2.000000   60.000000  165.000000   4500.000000   \n",
       "max      2.000000    4.000000  105.000000  350.000000  30000.000000   \n",
       "\n",
       "              Debt       Amount        Price  bin_age  \n",
       "count   146.000000   146.000000   146.000000    146.0  \n",
       "mean    439.164384  1040.616438  1425.554795      2.0  \n",
       "std    1001.663795   422.834805   484.811076      0.0  \n",
       "min       0.000000   200.000000   425.000000      2.0  \n",
       "25%       0.000000   750.000000  1065.250000      2.0  \n",
       "50%       0.000000  1000.000000  1375.500000      2.0  \n",
       "75%      46.500000  1300.000000  1715.500000      2.0  \n",
       "max    5500.000000  2000.000000  2750.000000      2.0  "
      ]
     },
     "execution_count": 53,
     "metadata": {},
     "output_type": "execute_result"
    }
   ],
   "source": [
    "credit_df.loc[(credit_df['Age'] == 30)].describe()"
   ]
  },
  {
   "cell_type": "markdown",
   "metadata": {},
   "source": [
    "For instance, `age=30` is the least risky value of those present in the dataset for age. \n",
    "Let's come up with optimal values for the remainder of the features:\n",
    "<li>Seniority=5</li>\n",
    "<li>Home=3</li>\n",
    "<li>Time=47</li>\n",
    "<li>Marital=1</li>\n",
    "<li>Records=1</li>\n",
    "<li>Jobs=1</li>\n",
    "<li>Expenses=53</li>\n",
    "<li>Income= 123 (Optimal for that age)</li>\n",
    "<li>Assets=3164</li>\n",
    "<li>Debt=439</li>\n",
    "<li>Amount=1040</li>\n",
    "<li>Price= 1425</li>\n",
    "<li>bin_age= 2</li>"
   ]
  },
  {
   "cell_type": "code",
   "execution_count": 54,
   "metadata": {},
   "outputs": [],
   "source": [
    "filler_feature_values = {0:1, 1:5, 2:3, 3:47, 4:30, 5:1, 6:1, 7:1, 8:53, 9:123, 10:3164, 11:439, 12:1040, 13:1425, 14:2}\n",
    "\n"
   ]
  },
  {
   "cell_type": "markdown",
   "metadata": {},
   "source": [
    "In the dictionary, the features are numbered and not named because the function we will use to plot the decision regions only takes in Numpy arrays. Also, since in `statsmodel`, you must explicitly define the `constant`, the logistic model has an additional 0 feature, which always equals 1.\n",
    "\n",
    "\n",
    "We also intend to plot the actual predictions for the test dataset. To dothis we must define another dictionary like `filler_feature_values`"
   ]
  },
  {
   "cell_type": "code",
   "execution_count": 55,
   "metadata": {},
   "outputs": [],
   "source": [
    "filler_feature_ranges = {0:1, 1:4, 2:3, 3:13, 4:35, 5:1, 6:1, 7:1, 8:53, 9:220, 10:26000, 11:5000, 12:900, 13:700, 14:1}"
   ]
  },
  {
   "cell_type": "markdown",
   "metadata": {},
   "source": [
    "The next thing to do is to create a (1, 15) shaped NumPy array with test case #547 so that the plotting function can highlight it. We first convert it to NumPy and then prepend the `constant` of 1, which must be the first feature, and then reshape it so that it meets the (1, 15) dimensions:"
   ]
  },
  {
   "cell_type": "code",
   "execution_count": 56,
   "metadata": {},
   "outputs": [
    {
     "name": "stdout",
     "output_type": "stream",
     "text": [
      "[[   1    1    5   36   28    2    2    1   60   95 4000    0  500  625\n",
      "     2]]\n"
     ]
    }
   ],
   "source": [
    "X_highlight = np.reshape(\\\n",
    "                        np.concatenate(([1], X_test.iloc[542].to_numpy())), (1, 15))\n",
    "\n",
    "print(X_highlight)"
   ]
  },
  {
   "cell_type": "markdown",
   "metadata": {},
   "source": [
    "We are good to go now! Let's visualize some decision region plots! We will compare the feature that is thought to be the highest <i>risk factor</i>, `Amount`, with the following four most important risk factors: `Seniority`, `Income`, `Price`, and `Record`."
   ]
  },
  {
   "cell_type": "code",
   "execution_count": 64,
   "metadata": {},
   "outputs": [
    {
     "data": {
      "image/png": "[encoded data removed]",
      "text/plain": [
       "<Figure size 864x576 with 4 Axes>"
      ]
     },
     "metadata": {},
     "output_type": "display_data"
    }
   ],
   "source": [
    "# Import the mlxtend package and then import 'plot_decision_regions method'\n",
    "from mlxtend.plotting import plot_decision_regions\n",
    "plt.rcParams.update({'font.size': 14})\n",
    "fig, axarr = plt.subplots(2, 2, figsize=(12, 8), sharex=True, \\\n",
    "    sharey=False)\n",
    "\n",
    "# Create Decision Surface Plot based on a 2D Interaction\n",
    "def create_decision_plot(X, y, model, feature_index, feature_names, X_highlight, filler_feature_values, filler_feature_ranges, ax=None):\n",
    "    filler_values = dict((k, filler_feature_values[k]) for k in filler_feature_values.keys() if k not in feature_index)\n",
    "    filler_ranges = dict((k, filler_feature_ranges[k]) for k in filler_feature_ranges.keys() if k not in feature_index)\n",
    "    ax = plot_decision_regions(sm.add_constant(X).to_numpy(), y.to_numpy(), clf=model, \n",
    "                                feature_index=feature_index,\n",
    "                                X_highlight=X_highlight,\n",
    "                                filler_feature_values=filler_values,\n",
    "                                filler_feature_ranges=filler_ranges,\n",
    "                                scatter_kwargs={'s':48, 'edgecolor':None, 'alpha':0.7},\n",
    "                                contourf_kwargs = {'alpha': 0.2}, legend=2, ax=ax)\n",
    "    \n",
    "    ax.set_xlabel(feature_names[0])\n",
    "    ax.set_ylabel(feature_names[1])\n",
    "    return ax\n",
    "\n",
    "create_decision_plot(X_test, y_test, log_result, [12, 1], ['Amount', 'Seniority'], X_highlight, filler_feature_values, filler_feature_ranges, ax=axarr.flat[0])\n",
    "create_decision_plot(X_test, y_test, log_result, [12, 9], ['Amount', 'Income'], X_highlight, filler_feature_values, filler_feature_ranges, ax=axarr.flat[1])\n",
    "create_decision_plot(X_test, y_test, log_result, [12, 13], ['Amount', 'Price'], X_highlight, filler_feature_values, filler_feature_ranges, ax=axarr.flat[2])\n",
    "create_decision_plot(X_test, y_test, log_result, [12, 6], ['Amount', 'Records'], X_highlight, filler_feature_values, filler_feature_ranges, ax=axarr.flat[3])\n",
    "\n",
    "plt.subplots_adjust(top=1, bottom=0, hspace=0.2, wspace=0.2)\n",
    "plt.show()"
   ]
  },
  {
   "cell_type": "code",
   "execution_count": 60,
   "metadata": {},
   "outputs": [],
   "source": [
    "fig.savefig('decision_plot')"
   ]
  },
  {
   "cell_type": "markdown",
   "metadata": {},
   "source": [
    "### Appreciating what hinders machine learning interpretability\n",
    "Looking at the plot we noticed that the chart of Loan_Amount and other features showed a conclusive pattern. Sometimes you will encounter critical meditiating variables that could explain the increased risk of loan default.\n",
    "N.B: A `mediating variable` is one that influences the strength between the independent and target (dependent) variable.  \n"
   ]
  },
  {
   "cell_type": "code",
   "execution_count": 68,
   "metadata": {},
   "outputs": [
    {
     "data": {
      "image/png": "[encoded data removed]",
      "text/plain": [
       "<Figure size 864x576 with 1 Axes>"
      ]
     },
     "metadata": {},
     "output_type": "display_data"
    }
   ],
   "source": [
    "fig, ax = plt.subplots(1, 1, figsize=(12,8))\n",
    "create_decision_plot(X_test, y_test, log_result,[4, 14], ['Age', 'bin_age'], X_highlight, filler_feature_values, filler_feature_ranges, ax=ax)\n",
    "plt.show()"
   ]
  },
  {
   "cell_type": "markdown",
   "metadata": {},
   "source": [
    "No decision boundary was ascertained in the chart above because if all variables are held constant (at less risky value), no age and age group combination is enough to predict loan default.\n",
    "\n",
    "Dimensionality aside, there are chiefly three things that introduce complexity that makes interpretation difficult.\n",
    "1. Non-linearity\n",
    "2. Interactivity\n",
    "3. Non-monotonicity\n"
   ]
  },
  {
   "cell_type": "markdown",
   "metadata": {},
   "source": [
    "### Non-linearity\n",
    "Linear equations are additive, it is easy to separate the effects of each of its terms from the outcome of the model. This is why we say machine learning models such as linear/ logistic regressions are very interpretable. \n",
    "\n",
    "Note that, there are model classes that are inherently non-linear because they introduce non-linearity in their training. deep learning models like neural networks are non-linear because they have non-linear activation functions such as `sigmoid`. Logistic regression is considered a generalized linear model because it's additive. \n",
    "\n",
    "Please note that even if your model is linear, the relationships between the variables may howvere not be linear, which can invariably lead to poor performance and interpretability.\n",
    "\n",
    "How can we avert this? \n",
    "We can avert this by adopt either of the following approaches:\n",
    "1. Use a non-linear model class\n",
    "2. Use domain knowledge to engineer a feature that can help \"linearize\" it\n",
    "3. Identify outliers and eliminate them.\n"
   ]
  },
  {
   "cell_type": "markdown",
   "metadata": {},
   "source": [
    "### Interactivity"
   ]
  },
  {
   "cell_type": "markdown",
   "metadata": {},
   "source": [
    "When we create a feature that has an interaction between two independent variables in the feature space. Interaction feature could be informed by domain knowledge. Note that many model classes do this interaction automatically by permutating all kinds of operations between features. Features have `latent` relationships between one another. You can automate the process of looking for interaction. This is usually the case for many deep learning problems where the data is unstructured and, therefore, part of the task of training the model is looking for the latent relationships that `don't mean anything`(which is called a `spurious relationship or correlation`)."
   ]
  },
  {
   "cell_type": "markdown",
   "metadata": {},
   "source": [
    "### Non-monotonicity"
   ]
  },
  {
   "cell_type": "markdown",
   "metadata": {},
   "source": [
    "A variable has a meaningful and consistent relationship between a feature and the target variable. So, we know that as `income` and `Asset` increases, the risk of defaulting is low. There is no point at which you reach a certain income and this risk rises. Maybe the risk slowly rises up but it doesn't rise abruptly. We call this `monotonicity`, and functions that are `monotonic` are either always increasing or decreasing throughout their entire domain.\n",
    "\n",
    "Note that `all` linear relationships are monotonic, but not all monotonic relationships are necessarily linear.\n",
    "A model doesn't know about a monotonic relationship that we expect because of our domain expertise. Then because of noise and omissions in the data, the model is trained in such a way in which there are ups and downs where you don't expect them.\n",
    "Some model classes are inherently monotonic, such as logistic regression, so they can't have this problem, but many others do. \n",
    "I will explain this in my subsequent blog post on `Monotonic Constraints and Model Tuning for Interpretability`"
   ]
  },
  {
   "cell_type": "markdown",
   "metadata": {},
   "source": [
    "### REFERENCES\n",
    "1. Mlextend Documentation, Plotting Decision Regions. http://rasbt.github.io/mlxtend/user_guide/plotting/plot_decision_regions/ \n",
    "2. Molnar, Christoph. Interpretable Machine Learning. A Guide for Making Black Box Models Explainable, 2019: https://christophm.github.io/interpretable-ml-book/\n",
    "\n",
    "3. Serg Masis. Interpretable Machine Learning with Python \n"
   ]
  },
  {
   "cell_type": "code",
   "execution_count": null,
   "metadata": {},
   "outputs": [],
   "source": []
  }
 ],
 "metadata": {
  "interpreter": {
   "hash": "b3ba2566441a7c06988d0923437866b63cedc61552a5af99d1f4fb67d367b25f"
  },
  "kernelspec": {
   "display_name": "Python 3",
   "language": "python",
   "name": "python3"
  },
  "language_info": {
   "codemirror_mode": {
    "name": "ipython",
    "version": 3
   },
   "file_extension": ".py",
   "mimetype": "text/x-python",
   "name": "python",
   "nbconvert_exporter": "python",
   "pygments_lexer": "ipython3",
   "version": "3.7.4"
  }
 },
 "nbformat": 4,
 "nbformat_minor": 2
}
